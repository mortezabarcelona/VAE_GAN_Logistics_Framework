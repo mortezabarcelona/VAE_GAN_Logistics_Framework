{
 "cells": [
  {
   "cell_type": "code",
   "id": "initial_id",
   "metadata": {
    "collapsed": true,
    "ExecuteTime": {
     "end_time": "2025-05-07T08:50:36.969106Z",
     "start_time": "2025-05-07T08:50:36.961200Z"
    }
   },
   "source": [
    "# Cell 1: Introduction (Markdown)\n",
    "\"\"\"\n",
    "# Model Evaluation for VAE-GAN\n",
    "\n",
    "This notebook evaluates the performance of the trained VAE-GAN model by exploring its latent space and performing a qualitative evaluation of the reconstructions. We use PCA and t-SNE to visualize the latent space and compare a few original samples with their reconstructions.\n",
    "\"\"\"\n"
   ],
   "outputs": [
    {
     "data": {
      "text/plain": [
       "'\\n# Model Evaluation for VAE-GAN\\n\\nThis notebook evaluates the performance of the trained VAE-GAN model by exploring its latent space and performing a qualitative evaluation of the reconstructions. We use PCA and t-SNE to visualize the latent space and compare a few original samples with their reconstructions.\\n'"
      ]
     },
     "execution_count": 10,
     "metadata": {},
     "output_type": "execute_result"
    }
   ],
   "execution_count": 10
  },
  {
   "metadata": {
    "ExecuteTime": {
     "end_time": "2025-05-07T09:08:09.542226Z",
     "start_time": "2025-05-07T09:08:07.693061Z"
    }
   },
   "cell_type": "code",
   "source": [
    "# %% [code]\n",
    "# Cell 2: Load Trained Model and Data\n",
    "\n",
    "import torch\n",
    "import os\n",
    "import pandas as pd\n",
    "import numpy as np\n",
    "from torch.utils.data import DataLoader, TensorDataset\n",
    "from sklearn.preprocessing import StandardScaler\n",
    "\n",
    "# Set up the device (GPU if available, else CPU)\n",
    "device = torch.device(\"cuda\" if torch.cuda.is_available() else \"cpu\")\n",
    "print(\"Device:\", device)\n",
    "\n",
    "# -------------------------------------------------------\n",
    "# Import the required classes from your training module\n",
    "# and add them to the safe globals.\n",
    "# -------------------------------------------------------\n",
    "try:\n",
    "    from src.models.optimization.vae_gan import VAEGAN, Encoder, Decoder, Discriminator\n",
    "    torch.serialization.add_safe_globals([\n",
    "        (\"VAEGAN\", VAEGAN),\n",
    "        (\"Encoder\", Encoder),\n",
    "        (\"Decoder\", Decoder),\n",
    "        (\"Discriminator\", Discriminator)\n",
    "    ])\n",
    "    print(\"Safe globals added for VAEGAN, Encoder, Decoder, and Discriminator.\")\n",
    "except Exception as e:\n",
    "    print(\"Error adding safe globals:\", e)\n",
    "\n",
    "# ----------------------------\n",
    "# Load the Trained Model using the state dictionary\n",
    "# ----------------------------\n",
    "# Since the notebook is in the 'notebooks' directory, we go one level up.\n",
    "model_path = os.path.join(\"..\", \"src\", \"models\", \"trained_model.pt\")\n",
    "model_path = os.path.abspath(model_path)\n",
    "print(\"Loading trained model from:\", model_path)\n",
    "\n",
    "try:\n",
    "    # Instantiate the model with the appropriate configuration\n",
    "    model = VAEGAN(input_dim=5, latent_dim=8)\n",
    "\n",
    "    # Load the state dictionary from the file\n",
    "    state_dict = torch.load(model_path, map_location=device)\n",
    "    model.load_state_dict(state_dict)\n",
    "\n",
    "    # Move the model to the device and set it to evaluation mode\n",
    "    model.to(device)\n",
    "    model.eval()\n",
    "\n",
    "    print(\"Trained model loaded successfully using state_dict!\")\n",
    "except Exception as e:\n",
    "    print(\"Error loading trained model:\", e)\n",
    "\n",
    "# ----------------------------\n",
    "# Load the Cleaned Data and Compute Missing Feature\n",
    "# ----------------------------\n",
    "# The cleaned CSV file is assumed to be located at:\n",
    "# <project_root>/src/synthetic_data/data/processed/synthetic_logistics_data_cleaned.csv\n",
    "data_file = os.path.join(\"..\", \"src\", \"synthetic_data\", \"data\", \"processed\", \"synthetic_logistics_data_cleaned.csv\")\n",
    "data_file = os.path.abspath(data_file)\n",
    "print(\"Loading data from:\", data_file)\n",
    "\n",
    "try:\n",
    "    df = pd.read_csv(data_file)\n",
    "\n",
    "    # Debug: print available columns to inspect correct feature names.\n",
    "    print(\"Available columns in CSV:\", df.columns.tolist())\n",
    "\n",
    "    # Compute 'cost_per_tonkkm' if it does not exist\n",
    "    # We assume that cost per ton-km is computed as cost / (volume * distance)\n",
    "    if 'cost_per_tonkkm' not in df.columns:\n",
    "        if 'distance' in df.columns and 'volume' in df.columns and 'cost' in df.columns:\n",
    "            # Avoid division by zero; add a small epsilon if necessary or filter out zeros\n",
    "            epsilon = 1e-6\n",
    "            df['cost_per_tonkkm'] = df['cost'] / ((df['volume'] * df['distance']) + epsilon)\n",
    "            print(\"'cost_per_tonkkm' computed and added to the DataFrame.\")\n",
    "        else:\n",
    "            raise ValueError(\"Required columns for computing 'cost_per_tonkkm' not found.\")\n",
    "\n",
    "    # Select the features used during training\n",
    "    features = ['volume', 'cost', 'transit_time', 'co2_emissions', 'cost_per_tonkkm']\n",
    "    df_model = df[features].dropna()\n",
    "\n",
    "    # Normalize the features\n",
    "    scaler = StandardScaler()\n",
    "    data_array = scaler.fit_transform(df_model.values)\n",
    "\n",
    "    # Convert the NumPy array to a PyTorch tensor and create a TensorDataset\n",
    "    data_tensor = torch.tensor(data_array, dtype=torch.float32)\n",
    "    dataset = TensorDataset(data_tensor)\n",
    "\n",
    "    print(\"Data loaded and preprocessed successfully.\")\n",
    "except Exception as e:\n",
    "    print(\"Error loading data:\", e)\n"
   ],
   "id": "fba01014b9b2c240",
   "outputs": [
    {
     "name": "stdout",
     "output_type": "stream",
     "text": [
      "Device: cpu\n",
      "Safe globals added for VAEGAN, Encoder, Decoder, and Discriminator.\n",
      "Loading trained model from: /Users/mortezapourjahangiri/PycharmProjects/PythonProject/VAE_GAN_Logistics_Framework/src/models/trained_model.pt\n",
      "Trained model loaded successfully using state_dict!\n",
      "Loading data from: /Users/mortezapourjahangiri/PycharmProjects/PythonProject/VAE_GAN_Logistics_Framework/src/synthetic_data/data/processed/synthetic_logistics_data_cleaned.csv\n",
      "Available columns in CSV: ['shipment_id', 'timestamp', 'day_of_week', 'hour_of_day', 'origin', 'lat_origin', 'lon_origin', 'destination', 'lat_destination', 'lon_destination', 'intermediate', 'lat_intermediate', 'lon_intermediate', 'transport_mode', 'route', 'distance', 'volume', 'transit_time', 'cost', 'co2_emissions', 'carrier', 'port_origin', 'port_destination', 'airport_origin', 'airport_destination', 'weather_condition', 'weather_severity', 'traffic_congestion', 'port_congestion', 'disruption_indicator', 'capacity_modifier', 'scenario', 'multi_leg']\n",
      "'cost_per_tonkkm' computed and added to the DataFrame.\n",
      "Data loaded and preprocessed successfully.\n"
     ]
    }
   ],
   "execution_count": 15
  },
  {
   "metadata": {
    "ExecuteTime": {
     "end_time": "2025-05-07T09:09:36.375883Z",
     "start_time": "2025-05-07T09:09:34.960530Z"
    }
   },
   "cell_type": "code",
   "source": [
    "# %% [code]\n",
    "import matplotlib.pyplot as plt\n",
    "from torch.utils.data import DataLoader\n",
    "from sklearn.decomposition import PCA\n",
    "\n",
    "# Ensure the model is in evaluation mode (redundant but safe)\n",
    "model.eval()  # Use 'model' instead of 'trained_model'\n",
    "\n",
    "# Create a DataLoader for the dataset with a reasonable batch size.\n",
    "loader = DataLoader(dataset, batch_size=32, shuffle=False)\n",
    "\n",
    "# Collect all latent vectors from the entire dataset.\n",
    "all_latents = []\n",
    "with torch.no_grad():\n",
    "    for (data_batch,) in loader:\n",
    "        data_batch = data_batch.to(device)\n",
    "        # Use the encoder to get the latent parameters.\n",
    "        mu, logvar = model.encoder(data_batch)\n",
    "        # Reparameterize to sample latent vectors.\n",
    "        z = model.reparameterize(mu, logvar)\n",
    "        all_latents.append(z.cpu().numpy())\n",
    "\n",
    "# Concatenate all latent vectors into one array.\n",
    "all_latents = np.concatenate(all_latents, axis=0)  # Shape: (num_samples, latent_dim)\n",
    "\n",
    "# Use PCA to reduce the latent space to 2 dimensions.\n",
    "pca = PCA(n_components=2)\n",
    "latent_2d_pca = pca.fit_transform(all_latents)\n",
    "\n",
    "# Plot the PCA result.\n",
    "plt.figure(figsize=(8, 6))\n",
    "plt.scatter(latent_2d_pca[:, 0], latent_2d_pca[:, 1], s=5, alpha=0.7)\n",
    "plt.title(\"Latent Space Projection via PCA\")\n",
    "plt.xlabel(\"Principal Component 1\")\n",
    "plt.ylabel(\"Principal Component 2\")\n",
    "plt.show()\n"
   ],
   "id": "6e128b9e5d341c03",
   "outputs": [
    {
     "data": {
      "text/plain": [
       "<Figure size 800x600 with 1 Axes>"
      ],
      "image/png": "[encoded data removed]"
     },
     "metadata": {},
     "output_type": "display_data"
    }
   ],
   "execution_count": 19
  },
  {
   "metadata": {},
   "cell_type": "code",
   "source": [
    "# %% [code]\n",
    "from sklearn.manifold import TSNE\n",
    "import matplotlib.pyplot as plt\n",
    "import numpy as np\n",
    "import time\n",
    "\n",
    "# Check how many latent vectors you have.\n",
    "num_latents = all_latents.shape[0]\n",
    "print(\"Number of latent vectors:\", num_latents)\n",
    "\n",
    "# Use a smaller random subset for t-SNE to speed things up.\n",
    "subset_size = 50  # Reduced subset size for faster computation.\n",
    "if num_latents > subset_size:\n",
    "    indices = np.random.choice(num_latents, size=subset_size, replace=False)\n",
    "    latent_subset = all_latents[indices]\n",
    "    print(f\"Using a subset of {subset_size} latent vectors for t-SNE.\")\n",
    "else:\n",
    "    latent_subset = all_latents\n",
    "    print(\"Using all latent vectors for t-SNE.\")\n",
    "\n",
    "# Optional: Measure computation time for t-SNE.\n",
    "start_time = time.time()\n",
    "\n",
    "# Set up and run t-SNE with modified parameters for speed.\n",
    "tsne = TSNE(n_components=2, perplexity=15, max_iter=150, random_state=42)\n",
    "latent_2d_tsne = tsne.fit_transform(latent_subset)\n",
    "\n",
    "end_time = time.time()\n",
    "print(\"t-SNE computed in {:.2f} seconds.\".format(end_time - start_time))\n",
    "\n",
    "# Plot the t-SNE result.\n",
    "plt.figure(figsize=(8, 6))\n",
    "plt.scatter(latent_2d_tsne[:, 0], latent_2d_tsne[:, 1], s=50, alpha=0.7)\n",
    "plt.title(\"Latent Space Projection via t-SNE (Subset)\")\n",
    "plt.xlabel(\"t-SNE Dimension 1\")\n",
    "plt.ylabel(\"t-SNE Dimension 2\")\n",
    "plt.show()\n"
   ],
   "id": "aa16feb1156b7d5d",
   "outputs": [],
   "execution_count": null
  },
  {
   "metadata": {
    "ExecuteTime": {
     "end_time": "2025-05-07T08:49:44.880780Z",
     "start_time": "2025-05-07T08:49:44.858372Z"
    }
   },
   "cell_type": "code",
   "source": [
    "# Cell 5: Qualitative Evaluation – Numerical Comparison of Reconstructions\n",
    "\n",
    "# Choose a number of examples to evaluate (e.g., 5)\n",
    "num_examples = 5\n",
    "\n",
    "with torch.no_grad():\n",
    "    # Get a few samples from the data tensor (we're using the first num_examples samples)\n",
    "    sample_data = data_tensor[:num_examples].to(device)\n",
    "    # Pass the samples through the trained model to get reconstructions.\n",
    "    recon_data, _, _, _ = trained_model(sample_data)\n",
    "\n",
    "# Convert the tensor data to NumPy arrays for easier printing.\n",
    "sample_data_np = sample_data.cpu().numpy()\n",
    "recon_data_np = recon_data.cpu().numpy()\n",
    "\n",
    "# Print the numerical comparisons.\n",
    "print(\"Qualitative Evaluation (Numerical Comparison):\")\n",
    "for i in range(num_examples):\n",
    "    print(f\"Example {i+1}:\")\n",
    "    print(\"Original:      \", sample_data_np[i])\n",
    "    print(\"Reconstruction:\", recon_data_np[i])\n",
    "    print(\"-\" * 50)\n"
   ],
   "id": "a85aa826f25214e2",
   "outputs": [
    {
     "ename": "TypeError",
     "evalue": "'collections.OrderedDict' object is not callable",
     "output_type": "error",
     "traceback": [
      "\u001B[31m---------------------------------------------------------------------------\u001B[39m",
      "\u001B[31mTypeError\u001B[39m                                 Traceback (most recent call last)",
      "\u001B[36mCell\u001B[39m\u001B[36m \u001B[39m\u001B[32mIn[7]\u001B[39m\u001B[32m, line 10\u001B[39m\n\u001B[32m      8\u001B[39m     sample_data = data_tensor[:num_examples].to(device)\n\u001B[32m      9\u001B[39m     \u001B[38;5;66;03m# Pass the samples through the trained model to get reconstructions.\u001B[39;00m\n\u001B[32m---> \u001B[39m\u001B[32m10\u001B[39m     recon_data, _, _, _ = trained_model(sample_data)\n\u001B[32m     12\u001B[39m \u001B[38;5;66;03m# Convert the tensor data to NumPy arrays for easier printing.\u001B[39;00m\n\u001B[32m     13\u001B[39m sample_data_np = sample_data.cpu().numpy()\n",
      "\u001B[31mTypeError\u001B[39m: 'collections.OrderedDict' object is not callable"
     ]
    }
   ],
   "execution_count": 7
  },
  {
   "metadata": {
    "ExecuteTime": {
     "end_time": "2025-05-07T08:49:46.346579Z",
     "start_time": "2025-05-07T08:49:46.237381Z"
    }
   },
   "cell_type": "code",
   "source": [
    "# Cell 6: Qualitative Evaluation – Visual Comparison of Reconstructions\n",
    "\n",
    "import matplotlib.gridspec as gridspec\n",
    "import matplotlib.pyplot as plt\n",
    "\n",
    "fig = plt.figure(figsize=(15, 5))\n",
    "gs = gridspec.GridSpec(2, num_examples)\n",
    "\n",
    "for i in range(num_examples):\n",
    "    # Plot the original sample in the top row.\n",
    "    ax0 = fig.add_subplot(gs[0, i])\n",
    "    ax0.bar(range(sample_data_np.shape[1]), sample_data_np[i])\n",
    "    ax0.set_ylim([np.min(sample_data_np)-0.5, np.max(sample_data_np)+0.5])\n",
    "    ax0.set_title(f\"Original {i+1}\")\n",
    "\n",
    "    # Plot the reconstructed sample in the bottom row.\n",
    "    ax1 = fig.add_subplot(gs[1, i])\n",
    "    ax1.bar(range(recon_data_np.shape[1]), recon_data_np[i])\n",
    "    ax1.set_ylim([np.min(sample_data_np)-0.5, np.max(sample_data_np)+0.5])\n",
    "    ax1.set_title(f\"Reconstruction {i+1}\")\n",
    "\n",
    "plt.suptitle(\"Comparison: Original vs Reconstruction\")\n",
    "plt.show()\n"
   ],
   "id": "213298e32aa6cf89",
   "outputs": [
    {
     "ename": "NameError",
     "evalue": "name 'sample_data_np' is not defined",
     "output_type": "error",
     "traceback": [
      "\u001B[31m---------------------------------------------------------------------------\u001B[39m",
      "\u001B[31mNameError\u001B[39m                                 Traceback (most recent call last)",
      "\u001B[36mCell\u001B[39m\u001B[36m \u001B[39m\u001B[32mIn[8]\u001B[39m\u001B[32m, line 12\u001B[39m\n\u001B[32m      9\u001B[39m \u001B[38;5;28;01mfor\u001B[39;00m i \u001B[38;5;129;01min\u001B[39;00m \u001B[38;5;28mrange\u001B[39m(num_examples):\n\u001B[32m     10\u001B[39m     \u001B[38;5;66;03m# Plot the original sample in the top row.\u001B[39;00m\n\u001B[32m     11\u001B[39m     ax0 = fig.add_subplot(gs[\u001B[32m0\u001B[39m, i])\n\u001B[32m---> \u001B[39m\u001B[32m12\u001B[39m     ax0.bar(\u001B[38;5;28mrange\u001B[39m(sample_data_np.shape[\u001B[32m1\u001B[39m]), sample_data_np[i])\n\u001B[32m     13\u001B[39m     ax0.set_ylim([np.min(sample_data_np)-\u001B[32m0.5\u001B[39m, np.max(sample_data_np)+\u001B[32m0.5\u001B[39m])\n\u001B[32m     14\u001B[39m     ax0.set_title(\u001B[33mf\u001B[39m\u001B[33m\"\u001B[39m\u001B[33mOriginal \u001B[39m\u001B[38;5;132;01m{\u001B[39;00mi+\u001B[32m1\u001B[39m\u001B[38;5;132;01m}\u001B[39;00m\u001B[33m\"\u001B[39m)\n",
      "\u001B[31mNameError\u001B[39m: name 'sample_data_np' is not defined"
     ]
    },
    {
     "data": {
      "text/plain": [
       "<Figure size 1500x500 with 1 Axes>"
      ],
      "image/png": "[encoded data removed]"
     },
     "metadata": {},
     "output_type": "display_data"
    }
   ],
   "execution_count": 8
  },
  {
   "metadata": {
    "ExecuteTime": {
     "end_time": "2025-05-07T08:49:49.152649Z",
     "start_time": "2025-05-07T08:49:49.145888Z"
    }
   },
   "cell_type": "code",
   "source": [
    "# Cell 7: Conclusions (Markdown)\n",
    "\"\"\"\n",
    "## Conclusions\n",
    "\n",
    "- **Latent Space Exploration:**\n",
    "  The PCA and t-SNE plots show the organization of the latent space. You can inspect how well-separated the embeddings are, which may reflect the model's ability to capture meaningful data structure.\n",
    "\n",
    "- **Qualitative Evaluation:**\n",
    "  The numerical and bar chart comparisons of a few samples indicate how closely the model's reconstructions match the original data. Small differences suggest that the model is effectively learning the underlying features.\n",
    "\n",
    "These observations provide insight into the quality of the learned embeddings and the reconstruction performance. With this evaluation complete, the next step is to integrate these model outputs into the simulation engine for end-to-end performance assessment.\n",
    "\"\"\"\n"
   ],
   "id": "44d9fdd7bab7c2e1",
   "outputs": [
    {
     "data": {
      "text/plain": [
       "\"\\n## Conclusions\\n\\n- **Latent Space Exploration:**\\n  The PCA and t-SNE plots show the organization of the latent space. You can inspect how well-separated the embeddings are, which may reflect the model's ability to capture meaningful data structure.\\n\\n- **Qualitative Evaluation:**\\n  The numerical and bar chart comparisons of a few samples indicate how closely the model's reconstructions match the original data. Small differences suggest that the model is effectively learning the underlying features.\\n\\nThese observations provide insight into the quality of the learned embeddings and the reconstruction performance. With this evaluation complete, the next step is to integrate these model outputs into the simulation engine for end-to-end performance assessment.\\n\""
      ]
     },
     "execution_count": 9,
     "metadata": {},
     "output_type": "execute_result"
    }
   ],
   "execution_count": 9
  }
 ],
 "metadata": {
  "kernelspec": {
   "display_name": "Python 3",
   "language": "python",
   "name": "python3"
  },
  "language_info": {
   "codemirror_mode": {
    "name": "ipython",
    "version": 2
   },
   "file_extension": ".py",
   "mimetype": "text/x-python",
   "name": "python",
   "nbconvert_exporter": "python",
   "pygments_lexer": "ipython2",
   "version": "2.7.6"
  }
 },
 "nbformat": 4,
 "nbformat_minor": 5
}
